{
 "cells": [
  {
   "cell_type": "code",
   "execution_count": null,
   "metadata": {},
   "outputs": [],
   "source": [
    "from airflow import DAG\n",
    "from airflow.operators.python_operator import PythonOperator\n",
    "from datetime import datetime, timedelta\n",
    "\n",
    "\n",
    "def python_first_function():\n",
    "    current_time = datetime.datetime.now()\n",
    "    print(\"Data corrente:\", current_time)\n",
    "\n",
    "default_dag_args = {\n",
    "    \"start_date\": datetime(2023,9,1),\n",
    "    \"email_on_failure\": False,\n",
    "    \"email_on_retry\": False,\n",
    "    \"retryes\": 1,\n",
    "    \"retray_delay\": timedelta(minutes=5),\n",
    "    \"project_id\": 1\n",
    "}\n",
    "\n",
    "#crontab notation https://crontab.guru/#0_9_1_9_01\n",
    "with DAG(\"first_python_dag\", schedule_interval = '@daily', catchup=False, default_args = default_dag_args) as dag_python:\n",
    "\n",
    "\n",
    "    task_0 = PythonOperator(task_id= \"first_python_task\", python_callable= python_first_function)"
   ]
  }
 ],
 "metadata": {
  "language_info": {
   "name": "python"
  }
 },
 "nbformat": 4,
 "nbformat_minor": 2
}
