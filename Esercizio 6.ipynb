{
 "cells": [
  {
   "cell_type": "code",
   "execution_count": 2,
   "metadata": {},
   "outputs": [],
   "source": [
    "# Ho caricato il file csv ed ho inserito il na_values che mi trasforma il '?' in valore nullo\n",
    "\n",
    "import pandas as pd\n",
    "import numpy as np\n",
    "\n",
    "df = pd.read_csv('C:/Users/infob/Desktop/python/nuovo.py/Pandas/Esercizi develhope/World_Alcohol_Dataset - MAIN (1).csv', na_values='?')\n",
    "\n",
    "# Sostituisco i valori nulli con la mediana, poichè la std è abbastanza alta e quindi \n",
    "# ho dispersione dei valori\n",
    "\n",
    "df.fillna(round(df['beer_servings'].median(),2), inplace=True)\n",
    "df.fillna(round(df['spirit_servings'].median(),2), inplace=True)\n",
    "df.fillna(round(df['wine_servings'].median(),2), inplace=True)"
   ]
  },
  {
   "cell_type": "markdown",
   "metadata": {},
   "source": [
    "Write a Pandas program to find the top 5 countries with the highest beer servings and the highest spirit servings from the world alcohol consumption dataset. Retrieve the country names, beer servings, spirit servings, and the corresponding region for these top 5 countries"
   ]
  },
  {
   "cell_type": "code",
   "execution_count": 3,
   "metadata": {},
   "outputs": [
    {
     "data": {
      "text/html": [
       "<div>\n",
       "<style scoped>\n",
       "    .dataframe tbody tr th:only-of-type {\n",
       "        vertical-align: middle;\n",
       "    }\n",
       "\n",
       "    .dataframe tbody tr th {\n",
       "        vertical-align: top;\n",
       "    }\n",
       "\n",
       "    .dataframe thead th {\n",
       "        text-align: right;\n",
       "    }\n",
       "</style>\n",
       "<table border=\"1\" class=\"dataframe\">\n",
       "  <thead>\n",
       "    <tr style=\"text-align: right;\">\n",
       "      <th></th>\n",
       "      <th>country</th>\n",
       "      <th>beer_servings</th>\n",
       "      <th>spirit_servings</th>\n",
       "      <th>region</th>\n",
       "    </tr>\n",
       "  </thead>\n",
       "  <tbody>\n",
       "    <tr>\n",
       "      <th>111</th>\n",
       "      <td>Namibia</td>\n",
       "      <td>376.0</td>\n",
       "      <td>3.0</td>\n",
       "      <td>SUB-SAHARAN AFRICA</td>\n",
       "    </tr>\n",
       "    <tr>\n",
       "      <th>43</th>\n",
       "      <td>Czechia</td>\n",
       "      <td>361.0</td>\n",
       "      <td>170.0</td>\n",
       "      <td>EASTERN EUROPE</td>\n",
       "    </tr>\n",
       "    <tr>\n",
       "      <th>58</th>\n",
       "      <td>Gabon</td>\n",
       "      <td>347.0</td>\n",
       "      <td>98.0</td>\n",
       "      <td>SUB-SAHARAN AFRICA</td>\n",
       "    </tr>\n",
       "    <tr>\n",
       "      <th>61</th>\n",
       "      <td>Germany</td>\n",
       "      <td>346.0</td>\n",
       "      <td>117.0</td>\n",
       "      <td>WESTERN EUROPE</td>\n",
       "    </tr>\n",
       "    <tr>\n",
       "      <th>94</th>\n",
       "      <td>Lithuania</td>\n",
       "      <td>343.0</td>\n",
       "      <td>244.0</td>\n",
       "      <td>BALTICS</td>\n",
       "    </tr>\n",
       "  </tbody>\n",
       "</table>\n",
       "</div>"
      ],
      "text/plain": [
       "       country  beer_servings  spirit_servings              region\n",
       "111    Namibia          376.0              3.0  SUB-SAHARAN AFRICA\n",
       "43     Czechia          361.0            170.0      EASTERN EUROPE\n",
       "58       Gabon          347.0             98.0  SUB-SAHARAN AFRICA\n",
       "61     Germany          346.0            117.0      WESTERN EUROPE\n",
       "94   Lithuania          343.0            244.0             BALTICS"
      ]
     },
     "execution_count": 3,
     "metadata": {},
     "output_type": "execute_result"
    }
   ],
   "source": [
    "# Top 5 country per beer_servings, ordinato in modo decrescente\n",
    "\n",
    "df.sort_values(by=('beer_servings'), ascending=(False)).head()[['country','beer_servings','spirit_servings','region']]"
   ]
  },
  {
   "cell_type": "code",
   "execution_count": 5,
   "metadata": {},
   "outputs": [
    {
     "data": {
      "text/html": [
       "<div>\n",
       "<style scoped>\n",
       "    .dataframe tbody tr th:only-of-type {\n",
       "        vertical-align: middle;\n",
       "    }\n",
       "\n",
       "    .dataframe tbody tr th {\n",
       "        vertical-align: top;\n",
       "    }\n",
       "\n",
       "    .dataframe thead th {\n",
       "        text-align: right;\n",
       "    }\n",
       "</style>\n",
       "<table border=\"1\" class=\"dataframe\">\n",
       "  <thead>\n",
       "    <tr style=\"text-align: right;\">\n",
       "      <th></th>\n",
       "      <th>country</th>\n",
       "      <th>beer_servings</th>\n",
       "      <th>spirit_servings</th>\n",
       "      <th>region</th>\n",
       "    </tr>\n",
       "  </thead>\n",
       "  <tbody>\n",
       "    <tr>\n",
       "      <th>64</th>\n",
       "      <td>Grenada</td>\n",
       "      <td>199.0</td>\n",
       "      <td>438.0</td>\n",
       "      <td>LATIN AMER. &amp; CARIB</td>\n",
       "    </tr>\n",
       "    <tr>\n",
       "      <th>14</th>\n",
       "      <td>Belarus</td>\n",
       "      <td>142.0</td>\n",
       "      <td>373.0</td>\n",
       "      <td>C.W. OF IND. STATES</td>\n",
       "    </tr>\n",
       "    <tr>\n",
       "      <th>69</th>\n",
       "      <td>Haiti</td>\n",
       "      <td>1.0</td>\n",
       "      <td>326.0</td>\n",
       "      <td>LATIN AMER. &amp; CARIB</td>\n",
       "    </tr>\n",
       "    <tr>\n",
       "      <th>131</th>\n",
       "      <td>Russia</td>\n",
       "      <td>247.0</td>\n",
       "      <td>326.0</td>\n",
       "      <td>C.W. OF IND. STATES</td>\n",
       "    </tr>\n",
       "    <tr>\n",
       "      <th>68</th>\n",
       "      <td>Guyana</td>\n",
       "      <td>93.0</td>\n",
       "      <td>302.0</td>\n",
       "      <td>LATIN AMER. &amp; CARIB</td>\n",
       "    </tr>\n",
       "  </tbody>\n",
       "</table>\n",
       "</div>"
      ],
      "text/plain": [
       "     country  beer_servings  spirit_servings               region\n",
       "64   Grenada          199.0            438.0  LATIN AMER. & CARIB\n",
       "14   Belarus          142.0            373.0  C.W. OF IND. STATES\n",
       "69     Haiti            1.0            326.0  LATIN AMER. & CARIB\n",
       "131   Russia          247.0            326.0  C.W. OF IND. STATES\n",
       "68    Guyana           93.0            302.0  LATIN AMER. & CARIB"
      ]
     },
     "execution_count": 5,
     "metadata": {},
     "output_type": "execute_result"
    }
   ],
   "source": [
    "# Top 5 country per beer_servings, ordinato in modo decrescente\n",
    "\n",
    "df.sort_values(by=('spirit_servings'), ascending=(False)).head()[['country','beer_servings','spirit_servings','region']]"
   ]
  }
 ],
 "metadata": {
  "kernelspec": {
   "display_name": "base",
   "language": "python",
   "name": "python3"
  },
  "language_info": {
   "codemirror_mode": {
    "name": "ipython",
    "version": 3
   },
   "file_extension": ".py",
   "mimetype": "text/x-python",
   "name": "python",
   "nbconvert_exporter": "python",
   "pygments_lexer": "ipython3",
   "version": "3.10.9"
  },
  "orig_nbformat": 4
 },
 "nbformat": 4,
 "nbformat_minor": 2
}
