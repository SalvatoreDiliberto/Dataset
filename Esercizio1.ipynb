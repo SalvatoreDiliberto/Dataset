{
 "cells": [
  {
   "cell_type": "code",
   "execution_count": null,
   "metadata": {},
   "outputs": [],
   "source": [
    "from airflow import DAG\n",
    "from airflow.operators.bash_operator import BashOperator\n",
    "from datetime import datetime, timedelta\n",
    "\n",
    "\n",
    "default_dag_args = {\n",
    "    \"start_date\": datetime(2023,10,11),\n",
    "    \"email_on_failure\": False,\n",
    "    \"email_on_retry\": False,\n",
    "    \"retryes\": 1,\n",
    "    \"retray_delay\": timedelta(minutes=5),\n",
    "    \"project_id\": 1\n",
    "}\n",
    "\n",
    "\n",
    "with DAG (\"first_dag\", schedule_interval = None, default_args = default_dag_args) as dag:\n",
    "    task0 = BashOperator(task_id = \"bash_task\", bash_command = \"echo 'command executed from Bash Operator' \")\n",
    "    task1 = BashOperator(task_id = \"bash_task_move_data\", bash_command = \"cp C:/Users/salvo/OneDrive/Desktop/airflow/DATA_CENTER/DATA_LAKE/dataset_raw.txt C:/Users/salvo/OneDrive/Desktop/airflow/DATA_CENTER/CLEAN_DATA\")\n",
    "    task2 = BashOperator(task_id = 'bash_task_remove_data', bash_command = \"rm C:\\Users\\salvo\\OneDrive\\Desktop\\airflow\\DATA_CENTER\\DATA_LAKE\\dataset_raw.txt\")\n",
    "\n",
    "    task0 >> task1 >> task2"
   ]
  }
 ],
 "metadata": {
  "language_info": {
   "name": "python"
  }
 },
 "nbformat": 4,
 "nbformat_minor": 2
}
