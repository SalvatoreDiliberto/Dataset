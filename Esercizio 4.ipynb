{
 "cells": [
  {
   "cell_type": "code",
   "execution_count": 4,
   "metadata": {},
   "outputs": [],
   "source": [
    "import pandas as pd\n",
    "import matplotlib.pyplot as plt\n",
    "import seaborn as sns\n",
    "\n",
    "df = pd.read_csv('C:/Users/infob/Desktop/python/nuovo.py/Pandas/Esercizi develhope/World_Alcohol_Dataset - MAIN (1).csv', na_values='?')"
   ]
  },
  {
   "cell_type": "markdown",
   "metadata": {},
   "source": [
    "Write a Pandas program to filter the records from the world alcohol consumption dataset where the average consumption of beverages per person (beer, spirit, and wine combined) falls within the range of 0.5 to 2.5. Retrieve the records that include the country, average consumption, region, and GDP per capita."
   ]
  },
  {
   "cell_type": "markdown",
   "metadata": {},
   "source": [
    "Scrivere un programma Panda per filtrare i record dal set di dati sul consumo mondiale di alcol in cui il consumo medio di bevande per persona (birra, liquore e vino combinati) rientra nell'intervallo compreso tra 0,5 e 2,5. Recupera i record che includono il paese, il consumo medio, la regione e il PIL pro capite."
   ]
  },
  {
   "cell_type": "code",
   "execution_count": 66,
   "metadata": {},
   "outputs": [
    {
     "data": {
      "text/html": [
       "<div>\n",
       "<style scoped>\n",
       "    .dataframe tbody tr th:only-of-type {\n",
       "        vertical-align: middle;\n",
       "    }\n",
       "\n",
       "    .dataframe tbody tr th {\n",
       "        vertical-align: top;\n",
       "    }\n",
       "\n",
       "    .dataframe thead th {\n",
       "        text-align: right;\n",
       "    }\n",
       "</style>\n",
       "<table border=\"1\" class=\"dataframe\">\n",
       "  <thead>\n",
       "    <tr style=\"text-align: right;\">\n",
       "      <th></th>\n",
       "      <th>beer_servings</th>\n",
       "      <th>spirit_servings</th>\n",
       "      <th>wine_servings</th>\n",
       "      <th>life_expentancy</th>\n",
       "      <th>gdp_per_capita</th>\n",
       "    </tr>\n",
       "  </thead>\n",
       "  <tbody>\n",
       "    <tr>\n",
       "      <th>count</th>\n",
       "      <td>177.000000</td>\n",
       "      <td>177.000000</td>\n",
       "      <td>177.000000</td>\n",
       "      <td>177.000000</td>\n",
       "      <td>177.000000</td>\n",
       "    </tr>\n",
       "    <tr>\n",
       "      <th>mean</th>\n",
       "      <td>106.841808</td>\n",
       "      <td>77.028249</td>\n",
       "      <td>48.824859</td>\n",
       "      <td>71.679096</td>\n",
       "      <td>8641.242938</td>\n",
       "    </tr>\n",
       "    <tr>\n",
       "      <th>std</th>\n",
       "      <td>101.808911</td>\n",
       "      <td>85.541220</td>\n",
       "      <td>79.782786</td>\n",
       "      <td>8.170086</td>\n",
       "      <td>9838.887919</td>\n",
       "    </tr>\n",
       "    <tr>\n",
       "      <th>min</th>\n",
       "      <td>0.000000</td>\n",
       "      <td>0.000000</td>\n",
       "      <td>0.000000</td>\n",
       "      <td>51.000000</td>\n",
       "      <td>500.000000</td>\n",
       "    </tr>\n",
       "    <tr>\n",
       "      <th>25%</th>\n",
       "      <td>20.000000</td>\n",
       "      <td>4.000000</td>\n",
       "      <td>1.000000</td>\n",
       "      <td>65.700000</td>\n",
       "      <td>1700.000000</td>\n",
       "    </tr>\n",
       "    <tr>\n",
       "      <th>50%</th>\n",
       "      <td>76.000000</td>\n",
       "      <td>51.000000</td>\n",
       "      <td>8.000000</td>\n",
       "      <td>74.000000</td>\n",
       "      <td>4800.000000</td>\n",
       "    </tr>\n",
       "    <tr>\n",
       "      <th>75%</th>\n",
       "      <td>192.000000</td>\n",
       "      <td>122.000000</td>\n",
       "      <td>59.000000</td>\n",
       "      <td>77.000000</td>\n",
       "      <td>11400.000000</td>\n",
       "    </tr>\n",
       "    <tr>\n",
       "      <th>max</th>\n",
       "      <td>376.000000</td>\n",
       "      <td>438.000000</td>\n",
       "      <td>370.000000</td>\n",
       "      <td>88.000000</td>\n",
       "      <td>55100.000000</td>\n",
       "    </tr>\n",
       "  </tbody>\n",
       "</table>\n",
       "</div>"
      ],
      "text/plain": [
       "       beer_servings  spirit_servings  wine_servings  life_expentancy  \\\n",
       "count     177.000000       177.000000     177.000000       177.000000   \n",
       "mean      106.841808        77.028249      48.824859        71.679096   \n",
       "std       101.808911        85.541220      79.782786         8.170086   \n",
       "min         0.000000         0.000000       0.000000        51.000000   \n",
       "25%        20.000000         4.000000       1.000000        65.700000   \n",
       "50%        76.000000        51.000000       8.000000        74.000000   \n",
       "75%       192.000000       122.000000      59.000000        77.000000   \n",
       "max       376.000000       438.000000     370.000000        88.000000   \n",
       "\n",
       "       gdp_per_capita  \n",
       "count      177.000000  \n",
       "mean      8641.242938  \n",
       "std       9838.887919  \n",
       "min        500.000000  \n",
       "25%       1700.000000  \n",
       "50%       4800.000000  \n",
       "75%      11400.000000  \n",
       "max      55100.000000  "
      ]
     },
     "execution_count": 66,
     "metadata": {},
     "output_type": "execute_result"
    }
   ],
   "source": [
    "# Essendo che ho valori nulli vado a vedere con quali valori sostituirli, essendo che la std ha\n",
    "# un valore elevato allora li sostituisco con la mediana\n",
    "\n",
    "df1.describe()"
   ]
  },
  {
   "cell_type": "code",
   "execution_count": 5,
   "metadata": {},
   "outputs": [],
   "source": [
    "# Sostituisco i valori nulli con la mediana, poichè la std è abbastanza alta e quindi \n",
    "# ho dispersione dei valori\n",
    "\n",
    "df1 = df.fillna(round(df['beer_servings'].median(),2))\n",
    "df1 = df.fillna(round(df['spirit_servings'].median(),2))\n",
    "df1 = df.fillna(round(df['wine_servings'].median(),2))"
   ]
  },
  {
   "cell_type": "code",
   "execution_count": 7,
   "metadata": {},
   "outputs": [
    {
     "data": {
      "text/plain": [
       "beer_servings      76.0\n",
       "spirit_servings    51.0\n",
       "wine_servings       8.0\n",
       "dtype: float64"
      ]
     },
     "execution_count": 7,
     "metadata": {},
     "output_type": "execute_result"
    }
   ],
   "source": [
    "df1[['beer_servings','spirit_servings','wine_servings']].median()"
   ]
  },
  {
   "cell_type": "code",
   "execution_count": 8,
   "metadata": {},
   "outputs": [
    {
     "data": {
      "text/plain": [
       "0        0.000000\n",
       "1       91.666667\n",
       "2       13.000000\n",
       "3      106.333333\n",
       "4       91.666667\n",
       "          ...    \n",
       "172    145.333333\n",
       "173     38.000000\n",
       "174      2.000000\n",
       "175     18.333333\n",
       "176     28.666667\n",
       "Name: media_per_persona, Length: 177, dtype: float64"
      ]
     },
     "execution_count": 8,
     "metadata": {},
     "output_type": "execute_result"
    }
   ],
   "source": [
    "# Creo una nuova colonna e mi calcolo la media delle tre colonne per persona\n",
    "\n",
    "df1['media_per_persona'] = df1[['beer_servings','spirit_servings','wine_servings']].mean(axis=1)\n",
    "df1['media_per_persona']"
   ]
  },
  {
   "cell_type": "code",
   "execution_count": 9,
   "metadata": {},
   "outputs": [
    {
     "data": {
      "text/html": [
       "<div>\n",
       "<style scoped>\n",
       "    .dataframe tbody tr th:only-of-type {\n",
       "        vertical-align: middle;\n",
       "    }\n",
       "\n",
       "    .dataframe tbody tr th {\n",
       "        vertical-align: top;\n",
       "    }\n",
       "\n",
       "    .dataframe thead th {\n",
       "        text-align: right;\n",
       "    }\n",
       "</style>\n",
       "<table border=\"1\" class=\"dataframe\">\n",
       "  <thead>\n",
       "    <tr style=\"text-align: right;\">\n",
       "      <th></th>\n",
       "      <th>country</th>\n",
       "      <th>media_per_persona</th>\n",
       "      <th>region</th>\n",
       "      <th>gdp_per_capita</th>\n",
       "    </tr>\n",
       "  </thead>\n",
       "  <tbody>\n",
       "    <tr>\n",
       "      <th>36</th>\n",
       "      <td>Comoros</td>\n",
       "      <td>1.666667</td>\n",
       "      <td>SUB-SAHARAN AFRICA</td>\n",
       "      <td>700</td>\n",
       "    </tr>\n",
       "    <tr>\n",
       "      <th>74</th>\n",
       "      <td>Indonesia</td>\n",
       "      <td>2.000000</td>\n",
       "      <td>ASIA (EX. NEAR EAST)</td>\n",
       "      <td>3200</td>\n",
       "    </tr>\n",
       "    <tr>\n",
       "      <th>101</th>\n",
       "      <td>Mali</td>\n",
       "      <td>2.333333</td>\n",
       "      <td>SUB-SAHARAN AFRICA</td>\n",
       "      <td>900</td>\n",
       "    </tr>\n",
       "    <tr>\n",
       "      <th>110</th>\n",
       "      <td>Myanmar</td>\n",
       "      <td>2.000000</td>\n",
       "      <td>ASIA (EX. NEAR EAST)</td>\n",
       "      <td>1800</td>\n",
       "    </tr>\n",
       "    <tr>\n",
       "      <th>116</th>\n",
       "      <td>Niger</td>\n",
       "      <td>2.000000</td>\n",
       "      <td>SUB-SAHARAN AFRICA</td>\n",
       "      <td>800</td>\n",
       "    </tr>\n",
       "    <tr>\n",
       "      <th>134</th>\n",
       "      <td>Saudi Arabia</td>\n",
       "      <td>1.666667</td>\n",
       "      <td>NEAR EAST</td>\n",
       "      <td>11800</td>\n",
       "    </tr>\n",
       "    <tr>\n",
       "      <th>157</th>\n",
       "      <td>East Timor</td>\n",
       "      <td>2.000000</td>\n",
       "      <td>ASIA (EX. NEAR EAST)</td>\n",
       "      <td>500</td>\n",
       "    </tr>\n",
       "    <tr>\n",
       "      <th>174</th>\n",
       "      <td>Yemen</td>\n",
       "      <td>2.000000</td>\n",
       "      <td>NEAR EAST</td>\n",
       "      <td>650</td>\n",
       "    </tr>\n",
       "  </tbody>\n",
       "</table>\n",
       "</div>"
      ],
      "text/plain": [
       "          country  media_per_persona                region  gdp_per_capita\n",
       "36        Comoros           1.666667    SUB-SAHARAN AFRICA             700\n",
       "74      Indonesia           2.000000  ASIA (EX. NEAR EAST)            3200\n",
       "101          Mali           2.333333    SUB-SAHARAN AFRICA             900\n",
       "110       Myanmar           2.000000  ASIA (EX. NEAR EAST)            1800\n",
       "116         Niger           2.000000    SUB-SAHARAN AFRICA             800\n",
       "134  Saudi Arabia           1.666667             NEAR EAST           11800\n",
       "157    East Timor           2.000000  ASIA (EX. NEAR EAST)             500\n",
       "174         Yemen           2.000000             NEAR EAST             650"
      ]
     },
     "execution_count": 9,
     "metadata": {},
     "output_type": "execute_result"
    }
   ],
   "source": [
    "df2 = df1[(df1['media_per_persona'] > 0.5) & (df1['media_per_persona'] < 2.5)]\n",
    "df2[['country','media_per_persona','region','gdp_per_capita']]"
   ]
  }
 ],
 "metadata": {
  "kernelspec": {
   "display_name": "base",
   "language": "python",
   "name": "python3"
  },
  "language_info": {
   "codemirror_mode": {
    "name": "ipython",
    "version": 3
   },
   "file_extension": ".py",
   "mimetype": "text/x-python",
   "name": "python",
   "nbconvert_exporter": "python",
   "pygments_lexer": "ipython3",
   "version": "3.10.9"
  },
  "orig_nbformat": 4
 },
 "nbformat": 4,
 "nbformat_minor": 2
}
