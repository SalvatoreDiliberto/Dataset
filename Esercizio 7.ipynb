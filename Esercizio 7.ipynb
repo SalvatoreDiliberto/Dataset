{
 "cells": [
  {
   "cell_type": "code",
   "execution_count": 1,
   "metadata": {},
   "outputs": [],
   "source": [
    "# Ho caricato il file csv ed ho inserito il na_values che mi trasforma il '?' in valore nullo\n",
    "\n",
    "import pandas as pd\n",
    "import numpy as np\n",
    "\n",
    "df = pd.read_csv('C:/Users/infob/Desktop/python/nuovo.py/Pandas/Esercizi develhope/World_Alcohol_Dataset - MAIN (1).csv', na_values='?')\n",
    "\n",
    "# Sostituisco i valori nulli con la mediana, poichè la std è abbastanza alta e quindi \n",
    "# ho dispersione dei valori\n",
    "\n",
    "df.fillna(round(df['beer_servings'].median(),2), inplace=True)\n",
    "df.fillna(round(df['spirit_servings'].median(),2), inplace=True)\n",
    "df.fillna(round(df['wine_servings'].median(),2), inplace=True)"
   ]
  },
  {
   "cell_type": "markdown",
   "metadata": {},
   "source": [
    "Write a Pandas program to filter the records from the world alcohol consumption dataset where the life expectancy is above the average life expectancy of all countries. Retrieve the country, life expectancy, and GDP per capita for these filtered records"
   ]
  },
  {
   "cell_type": "code",
   "execution_count": 2,
   "metadata": {},
   "outputs": [
    {
     "data": {
      "text/plain": [
       "71.67909604519774"
      ]
     },
     "execution_count": 2,
     "metadata": {},
     "output_type": "execute_result"
    }
   ],
   "source": [
    "# Mi sono andato a trovare \n",
    "\n",
    "df['life_expentancy'].mean()"
   ]
  },
  {
   "cell_type": "code",
   "execution_count": 2,
   "metadata": {},
   "outputs": [
    {
     "data": {
      "text/html": [
       "<div>\n",
       "<style scoped>\n",
       "    .dataframe tbody tr th:only-of-type {\n",
       "        vertical-align: middle;\n",
       "    }\n",
       "\n",
       "    .dataframe tbody tr th {\n",
       "        vertical-align: top;\n",
       "    }\n",
       "\n",
       "    .dataframe thead th {\n",
       "        text-align: right;\n",
       "    }\n",
       "</style>\n",
       "<table border=\"1\" class=\"dataframe\">\n",
       "  <thead>\n",
       "    <tr style=\"text-align: right;\">\n",
       "      <th></th>\n",
       "      <th>country</th>\n",
       "      <th>life_expentancy</th>\n",
       "      <th>gdp_per_capita</th>\n",
       "    </tr>\n",
       "  </thead>\n",
       "  <tbody>\n",
       "    <tr>\n",
       "      <th>141</th>\n",
       "      <td>Slovenia</td>\n",
       "      <td>88.0</td>\n",
       "      <td>19000</td>\n",
       "    </tr>\n",
       "    <tr>\n",
       "      <th>44</th>\n",
       "      <td>Denmark</td>\n",
       "      <td>86.0</td>\n",
       "      <td>31100</td>\n",
       "    </tr>\n",
       "    <tr>\n",
       "      <th>42</th>\n",
       "      <td>Cyprus</td>\n",
       "      <td>85.0</td>\n",
       "      <td>19200</td>\n",
       "    </tr>\n",
       "    <tr>\n",
       "      <th>33</th>\n",
       "      <td>Chile</td>\n",
       "      <td>85.0</td>\n",
       "      <td>9900</td>\n",
       "    </tr>\n",
       "    <tr>\n",
       "      <th>81</th>\n",
       "      <td>Japan</td>\n",
       "      <td>83.7</td>\n",
       "      <td>28200</td>\n",
       "    </tr>\n",
       "    <tr>\n",
       "      <th>...</th>\n",
       "      <td>...</td>\n",
       "      <td>...</td>\n",
       "      <td>...</td>\n",
       "    </tr>\n",
       "    <tr>\n",
       "      <th>106</th>\n",
       "      <td>Moldova</td>\n",
       "      <td>72.1</td>\n",
       "      <td>1800</td>\n",
       "    </tr>\n",
       "    <tr>\n",
       "      <th>171</th>\n",
       "      <td>Vanuatu</td>\n",
       "      <td>72.0</td>\n",
       "      <td>2900</td>\n",
       "    </tr>\n",
       "    <tr>\n",
       "      <th>83</th>\n",
       "      <td>Kazakhstan</td>\n",
       "      <td>72.0</td>\n",
       "      <td>6300</td>\n",
       "    </tr>\n",
       "    <tr>\n",
       "      <th>65</th>\n",
       "      <td>Guatemala</td>\n",
       "      <td>71.9</td>\n",
       "      <td>4100</td>\n",
       "    </tr>\n",
       "    <tr>\n",
       "      <th>12</th>\n",
       "      <td>Bangladesh</td>\n",
       "      <td>71.8</td>\n",
       "      <td>1900</td>\n",
       "    </tr>\n",
       "  </tbody>\n",
       "</table>\n",
       "<p>104 rows × 3 columns</p>\n",
       "</div>"
      ],
      "text/plain": [
       "        country  life_expentancy  gdp_per_capita\n",
       "141    Slovenia             88.0           19000\n",
       "44      Denmark             86.0           31100\n",
       "42       Cyprus             85.0           19200\n",
       "33        Chile             85.0            9900\n",
       "81        Japan             83.7           28200\n",
       "..          ...              ...             ...\n",
       "106     Moldova             72.1            1800\n",
       "171     Vanuatu             72.0            2900\n",
       "83   Kazakhstan             72.0            6300\n",
       "65    Guatemala             71.9            4100\n",
       "12   Bangladesh             71.8            1900\n",
       "\n",
       "[104 rows x 3 columns]"
      ]
     },
     "execution_count": 2,
     "metadata": {},
     "output_type": "execute_result"
    }
   ],
   "source": [
    "# Sto visualizzando soltanto 3 colonne, in modo decrescente rispetto al life_expentancy e sto \n",
    "# visualizzando tutti i valori superiori alla media della life_expentancy\n",
    "\n",
    "df1 = df[(df['life_expentancy']) >= (df['life_expentancy'].mean())] [['country','life_expentancy','gdp_per_capita']]\n",
    "df1.sort_values(by=('life_expentancy'), ascending=False)"
   ]
  }
 ],
 "metadata": {
  "kernelspec": {
   "display_name": "base",
   "language": "python",
   "name": "python3"
  },
  "language_info": {
   "codemirror_mode": {
    "name": "ipython",
    "version": 3
   },
   "file_extension": ".py",
   "mimetype": "text/x-python",
   "name": "python",
   "nbconvert_exporter": "python",
   "pygments_lexer": "ipython3",
   "version": "3.10.9"
  },
  "orig_nbformat": 4
 },
 "nbformat": 4,
 "nbformat_minor": 2
}
